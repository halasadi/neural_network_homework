{
 "cells": [
  {
   "cell_type": "markdown",
   "metadata": {},
   "source": [
    "# Code from Lecture"
   ]
  },
  {
   "cell_type": "code",
   "execution_count": 1,
   "metadata": {},
   "outputs": [
    {
     "name": "stdout",
     "output_type": "stream",
     "text": [
      "number of examples:  228146\n"
     ]
    }
   ],
   "source": [
    "words = open('../external_resources/makemore/names.txt', 'r').read().splitlines()\n",
    "\n",
    "\n",
    "chars = sorted(list(set(''.join(words))))\n",
    "stoi = {s:i+1 for i,s in enumerate(chars)}\n",
    "stoi['.'] = 0\n",
    "itos = {i:s for s,i in stoi.items()}\n",
    "\n",
    "import torch\n",
    "\n",
    "\n",
    "xs_bi, ys_bi = [], []\n",
    "for w in words:\n",
    "  chs = ['.'] + list(w) + ['.']\n",
    "  for ch1, ch2 in zip(chs, chs[1:]):\n",
    "    ix1 = stoi[ch1]\n",
    "    ix2 = stoi[ch2]\n",
    "    xs_bi.append(ix1)\n",
    "    ys_bi.append(ix2)\n",
    "xs_bi = torch.tensor(xs_bi)\n",
    "ys_bi = torch.tensor(ys_bi)\n",
    "print('number of examples: ', xs_bi.nelement())"
   ]
  },
  {
   "cell_type": "markdown",
   "metadata": {},
   "source": [
    "# Write Neural Network into a Class"
   ]
  },
  {
   "cell_type": "markdown",
   "metadata": {},
   "source": [
    "Here, I package Kerpathy's code into a class, and make it a bit more general so it can run both bigram and tigram models."
   ]
  },
  {
   "cell_type": "code",
   "execution_count": 2,
   "metadata": {},
   "outputs": [],
   "source": [
    "\n",
    "# Re-write the code from the lecture into a unified class to avoid code duplication\n",
    "import torch.nn.functional as F\n",
    "\n",
    "class NGramModel():\n",
    "    def __init__(self, xs, ys, vocab_size, output_dim, step_size = 50, shrinkage=0.01):\n",
    "\n",
    "        # data\n",
    "        self._xs = xs\n",
    "        self._ys = ys\n",
    "        self._num = xs.nelement()\n",
    "        self._vocab_size = vocab_size\n",
    "        self._output_dim = output_dim\n",
    "        self._num = xs.nelement()\n",
    "\n",
    "        # random number generators\n",
    "        self._g = torch.Generator().manual_seed(2147483647)\n",
    "\n",
    "        # initialize parameters\n",
    "        self._W = torch.randn(self._vocab_size, self._output_dim, generator=self._g, requires_grad=True)\n",
    "\n",
    "        # hyperparameters\n",
    "        self._shrinkage = shrinkage\n",
    "        self._step_size = step_size\n",
    "        self._loss = None\n",
    "    \n",
    "    def _forward(self):\n",
    "        xenc = F.one_hot(self._xs, self._vocab_size).float()\n",
    "        logits = xenc @ self._W # predict log-counts\n",
    "        counts = logits.exp() # convert to counts\n",
    "        # (n x vocab_size) -> (vocab_size x 1)\n",
    "        # such that each entry is the probability of the corresponding character\n",
    "        probs = counts / counts.sum(1, keepdims=True) # probabilities for next character\n",
    "        # shirnking W to zero is equivalent to encouraging the network to predict uniform probabilities\n",
    "        loss = -probs[torch.arange(self._num), self._ys].log().mean() + self._shrinkage*(self._W**2).mean()\n",
    "        self._loss = loss\n",
    "\n",
    "    def _backward(self):\n",
    "        self._W.grad = None # set to zero the gradient\n",
    "        self._loss.backward()\n",
    "    \n",
    "    def _step(self):\n",
    "        self._W.data += -self._step_size * self._W.grad\n",
    "\n",
    "    def train(self, epochs = 200):\n",
    "        for k in range(epochs):\n",
    "\n",
    "            # compute loss\n",
    "            self._forward()\n",
    "\n",
    "            # compute gradients\n",
    "            self._backward()\n",
    "\n",
    "            # update parameters of the model\n",
    "            # using simple gradient descent\n",
    "            self._step()\n",
    "\n",
    "        print('loss: ', self._loss.item())\n",
    "            "
   ]
  },
  {
   "cell_type": "code",
   "execution_count": 3,
   "metadata": {},
   "outputs": [
    {
     "name": "stdout",
     "output_type": "stream",
     "text": [
      "loss:  2.4829957485198975\n"
     ]
    }
   ],
   "source": [
    "model = NGramModel(xs_bi, ys_bi, 27, 27, step_size=50, shrinkage=0.01)\n",
    "model.train()"
   ]
  },
  {
   "cell_type": "markdown",
   "metadata": {},
   "source": [
    "# Exercises\n",
    "\n",
    "* E01: train a trigram language model, i.e. take two characters as an input to predict the 3rd one. Feel free to use either counting or a neural net. Evaluate the loss; Did it improve over a bigram model?\n",
    "\n",
    "* E02: split up the dataset randomly into 80% train set, 10% dev set, 10% test set. Train the bigram and trigram models only on the training set. Evaluate them on dev and test splits. What can you see?\n",
    "\n",
    "* E03: use the dev set to tune the strength of smoothing (or regularization) for the trigram model - i.e. try many possibilities and see which one works best based on the dev set loss. What patterns can you see in the train and dev set loss as you tune this strength? Take the best setting of the smoothing and evaluate on the test set once and at the end. How good of a loss do you achieve?\n",
    "\n",
    "* E04: we saw that our 1-hot vectors merely select a row of W, so producing these vectors explicitly feels wasteful. Can you delete our use of F.one_hot in favor of simply indexing into rows of W?\n",
    "E05: look up and use F.cross_entropy instead. You should achieve the same result. Can you think of why we'd prefer to use F.cross_entropy instead?"
   ]
  },
  {
   "cell_type": "markdown",
   "metadata": {},
   "source": [
    "# E01"
   ]
  },
  {
   "cell_type": "code",
   "execution_count": 4,
   "metadata": {},
   "outputs": [],
   "source": [
    "words_mutated = [\".\" + word + \".\" for word in words]"
   ]
  },
  {
   "cell_type": "code",
   "execution_count": 5,
   "metadata": {},
   "outputs": [],
   "source": [
    "# all unique bigrams\n",
    "unique_bigrams = sorted(list(set([w[i:i+2] for w in words_mutated for i in range(len(w)-1)])))\n",
    "stoi2 = {s:i for i,s in enumerate(unique_bigrams)}\n",
    "itos2 = {i:s for s,i in stoi2.items()}\n",
    "\n"
   ]
  },
  {
   "cell_type": "code",
   "execution_count": 6,
   "metadata": {},
   "outputs": [
    {
     "name": "stdout",
     "output_type": "stream",
     "text": [
      "number of examples:  196113\n"
     ]
    }
   ],
   "source": [
    "xs_tri, ys_tri = [], []\n",
    "for w in words_mutated:\n",
    "  chs = list(w)\n",
    "  bigrams = [bi for bi in zip(chs, chs[1:])]\n",
    "  trigrams = zip(bigrams, chs[2:])\n",
    "  for (bigram, ch) in trigrams:\n",
    "    ix1 = stoi2[''.join(bigram)]\n",
    "    ix2 = stoi[ch]\n",
    "    xs_tri.append(ix1)\n",
    "    ys_tri.append(ix2)\n",
    "xs_tri = torch.tensor(xs_tri)\n",
    "ys_tri = torch.tensor(ys_tri)\n",
    "print('number of examples: ', xs_tri.nelement())"
   ]
  },
  {
   "cell_type": "code",
   "execution_count": 8,
   "metadata": {},
   "outputs": [],
   "source": [
    "tigram_model = NGramModel(xs_tri, ys_tri, len(unique_bigrams), 27, step_size=100, shrinkage=0.01)"
   ]
  },
  {
   "cell_type": "code",
   "execution_count": 9,
   "metadata": {},
   "outputs": [
    {
     "name": "stdout",
     "output_type": "stream",
     "text": [
      "loss:  2.1890223026275635\n"
     ]
    }
   ],
   "source": [
    "tigram_model.train()"
   ]
  },
  {
   "cell_type": "markdown",
   "metadata": {},
   "source": [
    "# E02"
   ]
  },
  {
   "cell_type": "markdown",
   "metadata": {},
   "source": []
  }
 ],
 "metadata": {
  "kernelspec": {
   "display_name": "Python 3",
   "language": "python",
   "name": "python3"
  },
  "language_info": {
   "codemirror_mode": {
    "name": "ipython",
    "version": 3
   },
   "file_extension": ".py",
   "mimetype": "text/x-python",
   "name": "python",
   "nbconvert_exporter": "python",
   "pygments_lexer": "ipython3",
   "version": "3.8.10"
  },
  "orig_nbformat": 4
 },
 "nbformat": 4,
 "nbformat_minor": 2
}
